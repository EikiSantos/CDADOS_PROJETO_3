{
 "cells": [
  {
   "cell_type": "code",
   "execution_count": null,
   "metadata": {},
   "outputs": [],
   "source": [
    "import pandas as pd\n",
    "import numpy as np\n",
    "import matplotlib.pyplot as plt\n",
    "import seaborn\n",
    "import math"
   ]
  },
  {
   "cell_type": "code",
   "execution_count": null,
   "metadata": {},
   "outputs": [],
   "source": [
    "excel_jogos = pd.read_csv(\"steam-store-games/steam.csv\")\n",
    "excel_requisitos = pd.read_csv(\"steam-store-games/steam_requirements_data.csv\")"
   ]
  },
  {
   "cell_type": "code",
   "execution_count": null,
   "metadata": {},
   "outputs": [],
   "source": [
    "excel_jogos"
   ]
  },
  {
   "cell_type": "code",
   "execution_count": null,
   "metadata": {},
   "outputs": [],
   "source": [
    "generos = excel_jogos.genres.str.cat(sep=\";\")\n",
    "generos = generos.split(\";\")\n",
    "lista_generos = []\n",
    "for i in generos:\n",
    "    if i not in lista_generos:\n",
    "        lista_generos.append(i)\n",
    "lista_software = [\"Animation & Modeling\", \"Web Publishing\", \"Design & Illustration\", \"Early Access\", \"Utilities\", \"Video Production\", \"Nudity\", \"Photo Editing\", \"Accounting\", \"Game Development\", \"Free to Play\", \"Audio Production\", \"Tutorial\", \"Sexual Content\", \"Education\", \"Software Training\", \"Documentary\"]\n",
    "for i in lista_software:\n",
    "    if i in lista_generos:\n",
    "        lista_generos.remove(i)\n",
    "lista_generos"
   ]
  },
  {
   "cell_type": "code",
   "execution_count": null,
   "metadata": {
    "scrolled": true
   },
   "outputs": [],
   "source": [
    "for i in lista_generos:\n",
    "    contador = 0\n",
    "    for k in excel_jogos.genres:\n",
    "        if i in k:\n",
    "            contador += 1\n",
    "    print(\"{0}:\".format(i), contador)"
   ]
  },
  {
   "cell_type": "markdown",
   "metadata": {},
   "source": [
    "# Porcentagem positivas e negativas"
   ]
  },
  {
   "cell_type": "code",
   "execution_count": null,
   "metadata": {},
   "outputs": [],
   "source": [
    "price = excel_jogos[\"price\"]\n",
    "positive = excel_jogos[\"positive_ratings\"]\n",
    "negative = excel_jogos[\"negative_ratings\"]\n",
    "i = 0\n",
    "total = 27075\n",
    "percent_positive = []\n",
    "percent_negative = []\n",
    "percent_p = 0\n",
    "percent_n = 0\n",
    "while i <= 27074:\n",
    "    percent_p = positive[i]/(positive[i] + negative[i])\n",
    "    percent_n = negative[i]/(positive[i] + negative[i])\n",
    "    percent_positive.append(percent_p)\n",
    "    percent_negative.append(percent_n)\n",
    "    i += 1\n",
    "    \n",
    "line = range(0, 27074)\n",
    "\n",
    "df_percent_positive = pd.DataFrame(percent_positive)\n",
    "df_test = df_percent_positive.join(excel_jogos, how='inner', lsuffix=' ', rsuffix=' ')\n",
    "df_test = df_test.rename(columns = {0:'Percent_Positive'})\n",
    "\n",
    "df_percent_negative = pd.DataFrame(percent_negative)\n",
    "df_test2 = df_percent_negative.join(excel_jogos, how='inner', lsuffix=' ', rsuffix=' ')\n",
    "df_test2= df_test2.rename(columns = {0: 'Percent_Negative'})\n",
    "df_test2\n",
    "excel_jogos[\"Percent_negative\"] = df_test2[\"Percent_Negative\"]\n",
    "excel_jogos[\"Percent_positive\"] = df_test[\"Percent_Positive\"]\n",
    "positivo = []\n",
    "for i in excel_jogos[\"Percent_positive\"]:\n",
    "    if i > 0.8:\n",
    "        positivo.append(\"Muito positivo\")\n",
    "    elif i >0.5:\n",
    "        positivo.append(\"Positivo\")\n",
    "    else:\n",
    "        positivo.append(\"Negativo\")\n",
    "excel_jogos[\"positivo\"] = positivo\n",
    "excel_jogos[\"positivo\"].value_counts(True)"
   ]
  },
  {
   "cell_type": "code",
   "execution_count": null,
   "metadata": {},
   "outputs": [],
   "source": []
  },
  {
   "cell_type": "markdown",
   "metadata": {},
   "source": [
    "# DF só com jogos"
   ]
  },
  {
   "cell_type": "code",
   "execution_count": null,
   "metadata": {},
   "outputs": [],
   "source": [
    "for i in lista_software:\n",
    "    excel_only_jogos = excel_jogos[~excel_jogos.genres.str.contains(i)]\n",
    "excel_only_jogos"
   ]
  },
  {
   "cell_type": "markdown",
   "metadata": {},
   "source": [
    "# Número de categorias"
   ]
  },
  {
   "cell_type": "code",
   "execution_count": null,
   "metadata": {},
   "outputs": [],
   "source": [
    "n_cat = []\n",
    "for i in excel_only_jogos.categories:\n",
    "    n_cat.append(i.count(\";\")+1)\n",
    "excel_only_jogos[\"n_cat\"] = pd.Series(n_cat)"
   ]
  },
  {
   "cell_type": "markdown",
   "metadata": {},
   "source": [
    "# Porcentagem de ratings"
   ]
  },
  {
   "cell_type": "code",
   "execution_count": null,
   "metadata": {
    "scrolled": false
   },
   "outputs": [],
   "source": [
    "excel_only_jogos[\"ratings\"] = excel_only_jogos[\"positive_ratings\"] + excel_only_jogos[\"negative_ratings\"]"
   ]
  },
  {
   "cell_type": "code",
   "execution_count": null,
   "metadata": {},
   "outputs": [],
   "source": [
    "excel_only_jogos[\"per_rating\"] = excel_only_jogos[\"positive_ratings\"]/excel_only_jogos[\"ratings\"]\n",
    "excel_only_jogos"
   ]
  },
  {
   "cell_type": "code",
   "execution_count": null,
   "metadata": {},
   "outputs": [],
   "source": [
    "excel_only_jogos.describe()"
   ]
  },
  {
   "cell_type": "code",
   "execution_count": null,
   "metadata": {
    "scrolled": true
   },
   "outputs": [],
   "source": [
    "excel_only_jogos.corr()"
   ]
  },
  {
   "cell_type": "markdown",
   "metadata": {},
   "source": [
    "# Excluindo jogos que não foram jogados (horas médias = 0)"
   ]
  },
  {
   "cell_type": "code",
   "execution_count": null,
   "metadata": {},
   "outputs": [],
   "source": [
    "excel_only_jogos = excel_only_jogos.loc[excel_only_jogos.average_playtime != 0]"
   ]
  },
  {
   "cell_type": "code",
   "execution_count": null,
   "metadata": {},
   "outputs": [],
   "source": []
  },
  {
   "cell_type": "markdown",
   "metadata": {},
   "source": [
    "# Tempo médio por gênero"
   ]
  },
  {
   "cell_type": "code",
   "execution_count": null,
   "metadata": {},
   "outputs": [],
   "source": [
    "t_medio = excel_only_jogos\n",
    "data = [t_medio.loc[(t_medio.genres.str.contains(i)) & (t_medio.average_playtime > 0)].average_playtime for i in lista_generos]\n",
    "fig, ax = plt.subplots(figsize=(20,15))\n",
    "ax.set_title('Boxplot para diferentes gêneros')\n",
    "ax.boxplot(data, labels = lista_generos)\n",
    "plt.show()"
   ]
  },
  {
   "cell_type": "markdown",
   "metadata": {},
   "source": [
    "# Log Tempo médio por gênero"
   ]
  },
  {
   "cell_type": "code",
   "execution_count": null,
   "metadata": {},
   "outputs": [],
   "source": [
    "t_medio[\"log_average_playtime\"] = np.log(t_medio[\"average_playtime\"].loc[t_medio[\"average_playtime\"]>0])\n",
    "data = [t_medio.loc[(t_medio.genres.str.contains(i)) & (t_medio.average_playtime > 0)].log_average_playtime for i in lista_generos]\n",
    "fig, ax = plt.subplots(figsize=(20,15))\n",
    "ax.set_title('Boxplot para diferentes gêneros (LOG)')\n",
    "ax.boxplot(data, labels = lista_generos)\n",
    "plt.show()"
   ]
  },
  {
   "cell_type": "markdown",
   "metadata": {},
   "source": [
    "# Tempo de jogo médio por gênero:"
   ]
  },
  {
   "cell_type": "code",
   "execution_count": null,
   "metadata": {
    "scrolled": true
   },
   "outputs": [],
   "source": [
    "for i in lista_generos:\n",
    "    plt.boxplot(t_medio.loc[(t_medio.genres.str.contains(i)) & (t_medio.average_playtime > 0)].average_playtime)\n",
    "    plt.title(i)\n",
    "    plt.show()"
   ]
  },
  {
   "cell_type": "markdown",
   "metadata": {},
   "source": [
    "# Log Tempo de jogo médio por gênero:"
   ]
  },
  {
   "cell_type": "code",
   "execution_count": null,
   "metadata": {
    "scrolled": true
   },
   "outputs": [],
   "source": [
    "for i in lista_generos:\n",
    "    \n",
    "    plt.boxplot(t_medio.loc[(t_medio.genres.str.contains(i)) & (t_medio.average_playtime > 0)].log_average_playtime)\n",
    "    plt.title(i)\n",
    "    plt.show()"
   ]
  },
  {
   "cell_type": "markdown",
   "metadata": {},
   "source": [
    "Quantos outliers por gênero?"
   ]
  },
  {
   "cell_type": "markdown",
   "metadata": {},
   "source": [
    "# Jogadores por gênero"
   ]
  },
  {
   "cell_type": "code",
   "execution_count": null,
   "metadata": {},
   "outputs": [],
   "source": [
    "faixas = []\n",
    "intervalo = []\n",
    "jogadores=excel_only_jogos\n",
    "valores = jogadores.owners.unique()\n",
    "for i in valores:\n",
    "    intervalo = i\n",
    "    intervalo = intervalo.split(\"-\")\n",
    "    faixas.append(intervalo[0])\n",
    "    faixas.append(intervalo[-1])\n",
    "faixas = list(map(int, set(faixas)))\n",
    "faixas.sort()"
   ]
  },
  {
   "cell_type": "code",
   "execution_count": null,
   "metadata": {},
   "outputs": [],
   "source": [
    "compradores = []\n",
    "\n",
    "for i in jogadores.owners:\n",
    "#     print(i)\n",
    "    \n",
    "    if i == \"0-20000\":\n",
    "        compradores.append(np.log10(10000))\n",
    "    elif i == '200000-500000':\n",
    "        compradores.append(np.log10(350000))\n",
    "    elif i == '1000000-2000000':\n",
    "        compradores.append(np.log10(1500000))\n",
    "    elif i == '50000-100000':\n",
    "        compradores.append(np.log10(75000))\n",
    "    elif i == '100000-200000':\n",
    "        compradores.append(np.log10(150000))\n",
    "    elif i == '500000-1000000':\n",
    "        compradores.append(np.log10(750000))\n",
    "    elif i == '20000-50000':\n",
    "        compradores.append(np.log10(35000))\n",
    "    elif i == '50000000-100000000':\n",
    "        compradores.append(np.log10(75000000))\n",
    "    elif i == '100000000-200000000':\n",
    "        compradores.append(np.log10(150000000))\n",
    "    elif i == '20000000-50000000':\n",
    "        compradores.append(np.log10(35000000))\n",
    "    elif i == '2000000-5000000':\n",
    "        compradores.append(np.log10(3500000))\n",
    "    elif i == '10000000-20000000':\n",
    "        compradores.append(np.log10(15000000))\n",
    "    else:\n",
    "        compradores.append(np.log10(7500000))\n",
    "jogadores[\"compradores\"] = compradores"
   ]
  },
  {
   "cell_type": "code",
   "execution_count": null,
   "metadata": {},
   "outputs": [],
   "source": [
    "jogadores.dropna()"
   ]
  },
  {
   "cell_type": "code",
   "execution_count": null,
   "metadata": {
    "scrolled": false
   },
   "outputs": [],
   "source": [
    "plt.hist(jogadores.compradores, bins=13)\n",
    "plt.title(\"Geral\")\n",
    "plt.show()"
   ]
  },
  {
   "cell_type": "code",
   "execution_count": null,
   "metadata": {},
   "outputs": [],
   "source": [
    "for i in lista_generos:\n",
    "    plt.hist(jogadores.loc[jogadores.genres.str.contains(i)].compradores, bins = 13)\n",
    "    plt.title(i)\n",
    "    plt.show()"
   ]
  },
  {
   "cell_type": "markdown",
   "metadata": {},
   "source": [
    "# Separando Variáveis em grupos"
   ]
  },
  {
   "cell_type": "markdown",
   "metadata": {},
   "source": [
    "Jutando variáveis que demonstram uma mesma qualidade em grupos"
   ]
  },
  {
   "cell_type": "code",
   "execution_count": null,
   "metadata": {},
   "outputs": [],
   "source": [
    "excel_only_jogos"
   ]
  },
  {
   "cell_type": "markdown",
   "metadata": {},
   "source": [
    "### Tempo de jogo"
   ]
  },
  {
   "cell_type": "code",
   "execution_count": null,
   "metadata": {
    "scrolled": true
   },
   "outputs": [],
   "source": [
    "excel_only_jogos.loc[:,[\"name\",\"average_playtime\",\"median_playtime\"]]"
   ]
  },
  {
   "cell_type": "code",
   "execution_count": null,
   "metadata": {},
   "outputs": [],
   "source": []
  },
  {
   "cell_type": "code",
   "execution_count": null,
   "metadata": {},
   "outputs": [],
   "source": []
  },
  {
   "cell_type": "markdown",
   "metadata": {},
   "source": [
    "### Ratings"
   ]
  },
  {
   "cell_type": "code",
   "execution_count": null,
   "metadata": {},
   "outputs": [],
   "source": [
    "excel_only_jogos.loc[:,[\"name\", \"positive_ratings\", \"negative_ratings\", \"ratings\", \"per_rating\"]]"
   ]
  },
  {
   "cell_type": "markdown",
   "metadata": {},
   "source": [
    "### Preço"
   ]
  },
  {
   "cell_type": "code",
   "execution_count": null,
   "metadata": {},
   "outputs": [],
   "source": [
    "excel_only_jogos.loc[:,[\"name\", \"price\"]]"
   ]
  },
  {
   "cell_type": "markdown",
   "metadata": {},
   "source": [
    "### Identificação"
   ]
  },
  {
   "cell_type": "code",
   "execution_count": null,
   "metadata": {},
   "outputs": [],
   "source": [
    "excel_only_jogos.loc[:,[\"name\", \"developer\", \"publisher\", \"release_date\",\"platforms\", \"required_age\", \"genres\", \"categories\", \"n_cat\"]]"
   ]
  },
  {
   "cell_type": "markdown",
   "metadata": {},
   "source": [
    "### Compradores"
   ]
  },
  {
   "cell_type": "code",
   "execution_count": null,
   "metadata": {},
   "outputs": [],
   "source": [
    "excel_only_jogos.loc[:, [\"name\", \"owners\"]]"
   ]
  },
  {
   "cell_type": "code",
   "execution_count": null,
   "metadata": {},
   "outputs": [],
   "source": [
    "def dummify(data, column_name):\n",
    "    \"\"\"\n",
    "        Converte a coluna column_name em dummies / one-hot e as adiciona ao dataframe\n",
    "        retorna uma copia do  df original *sem* a coluna que foi dummified\n",
    "    \"\"\"\n",
    "    df = data.copy()\n",
    "    # Nota: se você for um econometrista, pode se interessar por usar a opção dropFirst = True na get_dummies\n",
    "    df2 = pd.concat([df.drop(column_name, axis=1), pd.get_dummies(data[column_name], prefix=column_name)], axis=1)\n",
    "    return df2"
   ]
  },
  {
   "cell_type": "code",
   "execution_count": null,
   "metadata": {},
   "outputs": [],
   "source": [
    "from sklearn.preprocessing import OneHotEncoder\n",
    "\n",
    "encoder = OneHotEncoder()\n",
    "\n",
    "\n",
    "X_num1 = excel_only_jogos[\"price\"]\n",
    "X_num2 = excel_only_jogos[\"n_cat\"]\n",
    "#X_cat = steam[[\"genres\"]]\n",
    "x=excel_only_jogos[[\"price\",\"n_cat\"]]\n",
    "y_ratings = excel_only_jogos[\"positivo\"]\n",
    "#X_cat_encoded = encoder.fit_transform(X_cat)\n",
    "\n",
    "#encoder.categories_\n",
    "\n",
    "#X_cat_encoded.toarray()[0]\n",
    "\n",
    "\n",
    "X_num_array1 = X_num1.values\n",
    "\n",
    "X_num_array2 = X_num2.values\n",
    "#X_cat_encoded_array = X_cat_encoded.toarray()\n",
    "#X = np.concatenate((X_num_array, X_cat_encoded_array), axis=1)\n",
    "#X = np.concatenate((X_num_array1, X_num_array2), axis=1)"
   ]
  },
  {
   "cell_type": "code",
   "execution_count": null,
   "metadata": {},
   "outputs": [],
   "source": [
    "#from sklearn.preprocessing import OneHotEncoder\n",
    "#df=dummify(excel_only_jogos,\"genres\")\n",
    "#df.head()\n",
    "excel_only_jogos[\"positivo\"].value_counts(True)"
   ]
  },
  {
   "cell_type": "code",
   "execution_count": null,
   "metadata": {},
   "outputs": [],
   "source": [
    "from sklearn.ensemble import RandomForestClassifier\n",
    "from sklearn.model_selection import train_test_split\n",
    "from sklearn.metrics import accuracy_score\n",
    "\n",
    "X_train, X_test, y_train, y_test = train_test_split(x, y_ratings)\n",
    "\n",
    "model = RandomForestClassifier(100)\n",
    "model.fit(X_train, y_train)\n",
    "y_pred = model.predict(X_test)\n",
    "\n",
    "print(accuracy_score(y_test, y_pred))"
   ]
  },
  {
   "cell_type": "code",
   "execution_count": null,
   "metadata": {},
   "outputs": [],
   "source": [
    "novo_dado = [190,3000]\n",
    "\n",
    "novo_x_num1 = np.array([novo_dado[0]]).reshape(-1,1)\n",
    "novo_x_num2 = [novo_dado[1:]]\n",
    "\n",
    "\n",
    "novo_x = np.concatenate((novo_x_num1, novo_x_num2), axis=1)\n",
    "\n",
    "model.predict(novo_x)"
   ]
  },
  {
   "cell_type": "markdown",
   "metadata": {},
   "source": [
    "# Fazendo regressão linear"
   ]
  },
  {
   "cell_type": "code",
   "execution_count": null,
   "metadata": {},
   "outputs": [],
   "source": [
    "excel_only_jogos = excel_only_jogos.dropna()\n",
    "X_num1 = excel_only_jogos[[\"price\", \"n_cat\", \"average_playtime\", \"median_playtime\"]]\n",
    "y = excel_only_jogos[\"Percent_positive\"]"
   ]
  },
  {
   "cell_type": "code",
   "execution_count": null,
   "metadata": {},
   "outputs": [],
   "source": [
    "from sklearn.model_selection import train_test_split\n",
    "\n",
    "X_train, X_test, y_train, y_test = train_test_split(X_num1, y, test_size=0.2)"
   ]
  },
  {
   "cell_type": "code",
   "execution_count": null,
   "metadata": {},
   "outputs": [],
   "source": [
    "from sklearn.linear_model import LinearRegression\n",
    "reg = LinearRegression().fit(X_train, y_train)"
   ]
  },
  {
   "cell_type": "code",
   "execution_count": null,
   "metadata": {},
   "outputs": [],
   "source": [
    "reg.score(X_test, y_test)"
   ]
  },
  {
   "cell_type": "code",
   "execution_count": null,
   "metadata": {},
   "outputs": [],
   "source": [
    "reg.coef_"
   ]
  },
  {
   "cell_type": "code",
   "execution_count": null,
   "metadata": {},
   "outputs": [],
   "source": [
    "reg.intercept_"
   ]
  },
  {
   "cell_type": "code",
   "execution_count": null,
   "metadata": {},
   "outputs": [],
   "source": [
    "from sklearn.ensemble import RandomForestRegressor\n",
    "\n",
    "reg_ff = RandomForestRegressor(n_estimators=1000, random_state=42)\n",
    "reg_ff.fit(X_train, y_train)\n",
    "reg_ff.score(X_test, y_test)"
   ]
  },
  {
   "cell_type": "code",
   "execution_count": null,
   "metadata": {},
   "outputs": [],
   "source": [
    "reg.predict()"
   ]
  }
 ],
 "metadata": {
  "kernelspec": {
   "display_name": "Python 3",
   "language": "python",
   "name": "python3"
  },
  "language_info": {
   "codemirror_mode": {
    "name": "ipython",
    "version": 3
   },
   "file_extension": ".py",
   "mimetype": "text/x-python",
   "name": "python",
   "nbconvert_exporter": "python",
   "pygments_lexer": "ipython3",
   "version": "3.7.3"
  }
 },
 "nbformat": 4,
 "nbformat_minor": 2
}
