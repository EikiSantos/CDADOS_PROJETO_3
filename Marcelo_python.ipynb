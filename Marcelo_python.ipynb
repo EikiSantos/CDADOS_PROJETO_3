{
 "cells": [
  {
   "cell_type": "markdown",
   "metadata": {},
   "source": [
    "## Fazendo os import necessários"
   ]
  },
  {
   "cell_type": "code",
   "execution_count": 2,
   "metadata": {},
   "outputs": [],
   "source": [
    "%matplotlib inline\n",
    "import math\n",
    "import matplotlib.pyplot as plt\n",
    "import pandas as pd\n",
    "from scipy import stats\n"
   ]
  },
  {
   "cell_type": "code",
   "execution_count": 25,
   "metadata": {},
   "outputs": [],
   "source": [
    "steam=pd.read_csv(\"steam-store-games/steam.csv\")\n",
    "steam_description = pd.read_csv(\"steam-store-games/steam_description_data.csv\")\n",
    "steam_media_data = pd.read_csv(\"steam-store-games/steam_media_data.csv\") #Provavelmente não vamos usar\n",
    "steam_requirements = pd.read_csv(\"steam-store-games/steam_requirements_data.csv\")\n",
    "steam_support = pd.read_csv(\"steam-store-games/steam_support_info.csv\")\n",
    "steam_tag = pd.read_csv(\"steam-store-games/steamspy_tag_data.csv\")"
   ]
  },
  {
   "cell_type": "code",
   "execution_count": 90,
   "metadata": {},
   "outputs": [
    {
     "data": {
      "text/plain": [
       "0-20000             0.754485\n",
       "20000-50000         0.099386\n",
       "50000-100000        0.054060\n",
       "100000-200000       0.042965\n",
       "200000-500000       0.040840\n",
       "500000-1000000      0.005194\n",
       "1000000-2000000     0.001653\n",
       "2000000-5000000     0.000944\n",
       "5000000-10000000    0.000472\n",
       "Name: owners, dtype: float64"
      ]
     },
     "execution_count": 90,
     "metadata": {},
     "output_type": "execute_result"
    }
   ],
   "source": [
    "jogos_mais_negativos = steam[steam[\"positive_ratings\"]< steam[\"negative_ratings\"]]\n",
    "jogos_mais_negativos[\"owners\"].value_counts(True)"
   ]
  },
  {
   "cell_type": "code",
   "execution_count": 78,
   "metadata": {},
   "outputs": [],
   "source": [
    "#jogos_mais_negativos[jogos_mais_negativos[\"genres\"].str.contains(\"Action\")]"
   ]
  },
  {
   "cell_type": "code",
   "execution_count": null,
   "metadata": {},
   "outputs": [],
   "source": []
  },
  {
   "cell_type": "code",
   "execution_count": 104,
   "metadata": {},
   "outputs": [
    {
     "data": {
      "text/plain": [
       "(0, 5]         13293\n",
       "(5, 15]         9246\n",
       "(15, 40]        1861\n",
       "(40, 80]         102\n",
       "(150, 1000]       10\n",
       "(80, 150]          3\n",
       "Name: price, dtype: int64"
      ]
     },
     "execution_count": 104,
     "metadata": {},
     "output_type": "execute_result"
    }
   ],
   "source": [
    "lista = [0,5,15,40,80,150,1000]\n",
    "pd.cut(steam.price, bins=lista).value_counts()"
   ]
  },
  {
   "cell_type": "code",
   "execution_count": null,
   "metadata": {},
   "outputs": [],
   "source": []
  }
 ],
 "metadata": {
  "kernelspec": {
   "display_name": "Python 3",
   "language": "python",
   "name": "python3"
  },
  "language_info": {
   "codemirror_mode": {
    "name": "ipython",
    "version": 3
   },
   "file_extension": ".py",
   "mimetype": "text/x-python",
   "name": "python",
   "nbconvert_exporter": "python",
   "pygments_lexer": "ipython3",
   "version": "3.7.3"
  }
 },
 "nbformat": 4,
 "nbformat_minor": 2
}
