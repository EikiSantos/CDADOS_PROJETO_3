{
 "cells": [
  {
   "cell_type": "markdown",
   "metadata": {},
   "source": [
    "## Fazendo os import necessários"
   ]
  },
  {
   "cell_type": "code",
   "execution_count": 1,
   "metadata": {},
   "outputs": [],
   "source": [
    "%matplotlib inline\n",
    "import math\n",
    "import matplotlib.pyplot as plt\n",
    "import pandas as pd\n",
    "from scipy import stats\n",
    "import numpy as np"
   ]
  },
  {
   "cell_type": "code",
   "execution_count": 2,
   "metadata": {},
   "outputs": [],
   "source": [
    "steam=pd.read_csv(\"steam-store-games/steam.csv\")\n",
    "steam_description = pd.read_csv(\"steam-store-games/steam_description_data.csv\")\n",
    "steam_media_data = pd.read_csv(\"steam-store-games/steam_media_data.csv\") #Provavelmente não vamos usar\n",
    "steam_requirements = pd.read_csv(\"steam-store-games/steam_requirements_data.csv\")\n",
    "steam_support = pd.read_csv(\"steam-store-games/steam_support_info.csv\")\n",
    "steam_tag = pd.read_csv(\"steam-store-games/steamspy_tag_data.csv\")"
   ]
  },
  {
   "cell_type": "markdown",
   "metadata": {},
   "source": [
    "## Df só com jogos"
   ]
  },
  {
   "cell_type": "code",
   "execution_count": 3,
   "metadata": {},
   "outputs": [
    {
     "ename": "NameError",
     "evalue": "name 'excel_jogos' is not defined",
     "output_type": "error",
     "traceback": [
      "\u001b[1;31m---------------------------------------------------------------------------\u001b[0m",
      "\u001b[1;31mNameError\u001b[0m                                 Traceback (most recent call last)",
      "\u001b[1;32m<ipython-input-3-0362dc7efe0e>\u001b[0m in \u001b[0;36m<module>\u001b[1;34m\u001b[0m\n\u001b[1;32m----> 1\u001b[1;33m \u001b[0mgeneros\u001b[0m \u001b[1;33m=\u001b[0m \u001b[0mexcel_jogos\u001b[0m\u001b[1;33m.\u001b[0m\u001b[0mgenres\u001b[0m\u001b[1;33m.\u001b[0m\u001b[0mstr\u001b[0m\u001b[1;33m.\u001b[0m\u001b[0mcat\u001b[0m\u001b[1;33m(\u001b[0m\u001b[0msep\u001b[0m\u001b[1;33m=\u001b[0m\u001b[1;34m\";\"\u001b[0m\u001b[1;33m)\u001b[0m\u001b[1;33m\u001b[0m\u001b[1;33m\u001b[0m\u001b[0m\n\u001b[0m\u001b[0;32m      2\u001b[0m \u001b[0mgeneros\u001b[0m \u001b[1;33m=\u001b[0m \u001b[0mgeneros\u001b[0m\u001b[1;33m.\u001b[0m\u001b[0msplit\u001b[0m\u001b[1;33m(\u001b[0m\u001b[1;34m\";\"\u001b[0m\u001b[1;33m)\u001b[0m\u001b[1;33m\u001b[0m\u001b[1;33m\u001b[0m\u001b[0m\n\u001b[0;32m      3\u001b[0m \u001b[0mlista_generos\u001b[0m \u001b[1;33m=\u001b[0m \u001b[1;33m[\u001b[0m\u001b[1;33m]\u001b[0m\u001b[1;33m\u001b[0m\u001b[1;33m\u001b[0m\u001b[0m\n\u001b[0;32m      4\u001b[0m \u001b[1;32mfor\u001b[0m \u001b[0mi\u001b[0m \u001b[1;32min\u001b[0m \u001b[0mgeneros\u001b[0m\u001b[1;33m:\u001b[0m\u001b[1;33m\u001b[0m\u001b[1;33m\u001b[0m\u001b[0m\n\u001b[0;32m      5\u001b[0m     \u001b[1;32mif\u001b[0m \u001b[0mi\u001b[0m \u001b[1;32mnot\u001b[0m \u001b[1;32min\u001b[0m \u001b[0mlista_generos\u001b[0m\u001b[1;33m:\u001b[0m\u001b[1;33m\u001b[0m\u001b[1;33m\u001b[0m\u001b[0m\n",
      "\u001b[1;31mNameError\u001b[0m: name 'excel_jogos' is not defined"
     ]
    }
   ],
   "source": [
    "generos = excel_jogos.genres.str.cat(sep=\";\")\n",
    "generos = generos.split(\";\")\n",
    "lista_generos = []\n",
    "for i in generos:\n",
    "    if i not in lista_generos:\n",
    "        lista_generos.append(i)\n",
    "lista_software = [\"Animation & Modeling\", \"Web Publishing\", \"Design & Illustration\", \"Early Access\", \"Utilities\", \"Video Production\", \"Nudity\", \"Photo Editing\", \"Accounting\", \"Game Development\", \"Free to Play\", \"Audio Production\", \"Tutorial\", \"Sexual Content\", \"Education\", \"Software Training\", \"Documentary\"]\n",
    "for i in lista_software:\n",
    "    if i in lista_generos:\n",
    "        lista_generos.remove(i)\n",
    "lista_generos\n",
    "for i in lista_software:\n",
    "    excel_only_jogos = excel_jogos[~excel_jogos.genres.str.contains(i)]\n",
    "excel_only_jogos"
   ]
  },
  {
   "cell_type": "markdown",
   "metadata": {},
   "source": [
    "## Numero de categorias"
   ]
  },
  {
   "cell_type": "code",
   "execution_count": null,
   "metadata": {},
   "outputs": [],
   "source": [
    "n_cat = []\n",
    "for i in steam.categories:\n",
    "    n_cat.append(i.count(\";\")+1)\n",
    "steam[\"n_cat\"] = pd.Series(n_cat)\n",
    "steam[\"n_cat\"].value_counts()"
   ]
  },
  {
   "cell_type": "code",
   "execution_count": null,
   "metadata": {},
   "outputs": [],
   "source": [
    "## Porcentagem positiva e classificação em True ou False"
   ]
  },
  {
   "cell_type": "code",
   "execution_count": null,
   "metadata": {},
   "outputs": [],
   "source": [
    "price = steam[\"price\"]\n",
    "positive = steam[\"positive_ratings\"]\n",
    "negative = steam[\"negative_ratings\"]\n",
    "i = 0\n",
    "total = 27075\n",
    "percent_positive = []\n",
    "percent_negative = []\n",
    "percent_p = 0\n",
    "percent_n = 0\n",
    "while i <= 27074:\n",
    "    percent_p = positive[i]/(positive[i] + negative[i])\n",
    "    percent_n = negative[i]/(positive[i] + negative[i])\n",
    "    percent_positive.append(percent_p)\n",
    "    percent_negative.append(percent_n)\n",
    "    i += 1\n",
    "    \n",
    "line = range(0, 27074)\n",
    "\n",
    "df_percent_positive = pd.DataFrame(percent_positive)\n",
    "df_test = df_percent_positive.join(steam, how='inner', lsuffix=' ', rsuffix=' ')\n",
    "df_test = df_test.rename(columns = {0:'Percent_Positive'})\n",
    "\n",
    "df_percent_negative = pd.DataFrame(percent_negative)\n",
    "df_test2 = df_percent_negative.join(steam, how='inner', lsuffix=' ', rsuffix=' ')\n",
    "df_test2= df_test2.rename(columns = {0: 'Percent_Negative'})\n",
    "df_test2\n",
    "steam[\"Percent_negative\"] = df_test2[\"Percent_Negative\"]\n",
    "steam[\"Percent_positive\"] = df_test[\"Percent_Positive\"]\n",
    "positivo = []\n",
    "for i in steam[\"Percent_positive\"]:\n",
    "    if i > 0.5:\n",
    "        positivo.append(\"True\")\n",
    "    else:\n",
    "        positivo.append(\"False\")\n",
    "steam[\"positivo\"] = positivo\n",
    "steam[\"positivo\"].value_counts(True)"
   ]
  },
  {
   "cell_type": "code",
   "execution_count": null,
   "metadata": {},
   "outputs": [],
   "source": [
    "n_price = []\n",
    "\n",
    "for i in steam.price:\n",
    "    if i<5:\n",
    "        n_price.append(5)\n",
    "    elif i < 10:    \n",
    "        n_price.append(10)\n",
    "    elif i < 20:\n",
    "        n_price.append(15)\n",
    "    elif i < 30:\n",
    "        n_price.append(25)\n",
    "    elif i < 40:\n",
    "        n_price.append(35)\n",
    "    elif i < 50:\n",
    "        n_price.append(45)\n",
    "    elif i < 60:\n",
    "        n_price.append(55)\n",
    "    elif i < 70:\n",
    "        n_price.append(65)\n",
    "    elif i < 80:\n",
    "        n_price.append(75)\n",
    "    elif i < 90:\n",
    "        n_price.append(85)\n",
    "    elif i < 100:\n",
    "        n_price.append(95)\n",
    "    elif i < 110:\n",
    "        n_price.append(105)\n",
    "    elif i < 120:\n",
    "        n_price.append(115)\n",
    "    elif i < 130:\n",
    "        n_price.append(125)\n",
    "    elif i < 140:\n",
    "        n_price.append(135)\n",
    "    elif i < 150:\n",
    "        n_price.append(145)\n",
    "    elif i < 160:\n",
    "        n_price.append(155)\n",
    "    else:\n",
    "        n_price.append(170)\n",
    "steam[\"n_price\"] = pd.Series(n_price)"
   ]
  },
  {
   "cell_type": "code",
   "execution_count": null,
   "metadata": {},
   "outputs": [],
   "source": [
    "steam[\"n_price\"].value_counts()"
   ]
  },
  {
   "cell_type": "code",
   "execution_count": null,
   "metadata": {},
   "outputs": [],
   "source": [
    "steam[\"ratings\"] = steam[\"positive_ratings\"] - steam[\"negative_ratings\"]\n",
    "n_ratings = []\n",
    "#2.242.091\n",
    "for i in steam[\"ratings\"]:\n",
    "    if i< -5000:\n",
    "        n_ratings.append(-5000)\n",
    "    elif i < -4000:\n",
    "        n_ratings.append(-4000)\n",
    "    elif i < -3000:\n",
    "        n_ratings.append(-3000)\n",
    "    elif i < -2000:\n",
    "        n_ratings.append(-2000)\n",
    "    elif i < -1000:\n",
    "        n_ratings.append(-1000)\n",
    "    elif i < -500:\n",
    "        n_ratings.append(-500)\n",
    "    elif i < -200:\n",
    "        n_ratings.append(-200)\n",
    "    elif i < -100:\n",
    "        n_ratings.append(-100)\n",
    "    elif i < -50:\n",
    "        n_ratings.append(-50)\n",
    "    elif i < -20:\n",
    "        n_ratings.append(-20)\n",
    "    elif i < -10:\n",
    "        n_ratings.append(-10)\n",
    "    elif i<0:\n",
    "        n_ratings.append(0)\n",
    "    elif i<150:\n",
    "        n_ratings.append(150)\n",
    "    elif i<200:\n",
    "        n_ratings.append(200)\n",
    "    elif i<500:\n",
    "        n_ratings.append(500)\n",
    "    elif i<750:\n",
    "        n_ratings.append(750)\n",
    "    elif i< 2000:\n",
    "        n_ratings.append(1000)\n",
    "    elif i< 4000:\n",
    "        n_ratings.append(3000)\n",
    "    elif i< 6000:\n",
    "        n_ratings.append(5000)\n",
    "    elif i< 8000:\n",
    "        n_ratings.append(7000)\n",
    "    elif i< 10000:\n",
    "        n_ratings.append(9000)\n",
    "    elif i< 20000:\n",
    "        n_ratings.append(15000)\n",
    "    elif i< 30000:\n",
    "        n_ratings.append(25000)\n",
    "    elif i< 40000:\n",
    "        n_ratings.append(35000)\n",
    "    elif i< 50000:\n",
    "        n_ratings.append(45000)\n",
    "    elif i< 60000:\n",
    "        n_ratings.append(55000)\n",
    "    elif i< 70000:\n",
    "        n_ratings.append(65000)\n",
    "    elif i< 80000:\n",
    "        n_ratings.append(75000)\n",
    "    elif i< 90000:\n",
    "        n_ratings.append(85000)\n",
    "    elif i < 100000:\n",
    "        n_ratings.append(95000)\n",
    "    elif i < 200000:\n",
    "        n_ratings.append(150000)\n",
    "    elif i < 300000:\n",
    "        n_ratings.append(250000)\n",
    "    elif i < 400000:\n",
    "        n_ratings.append(350000)\n",
    "    elif i < 500000:\n",
    "        n_ratings.append(450000)\n",
    "    elif i < 600000:\n",
    "        n_ratings.append(550000)\n",
    "    elif i < 700000:\n",
    "        n_ratings.append(650000)\n",
    "    elif i < 800000:\n",
    "        n_ratings.append(750000)\n",
    "    elif i < 900000:\n",
    "        n_ratings.append(850000)\n",
    "    elif i < 1000000:\n",
    "        n_ratings.append(950000)\n",
    "    elif i < 1100000:\n",
    "        n_ratings.append(1050000)\n",
    "    elif i < 1200000:\n",
    "        n_ratings.append(1150000)\n",
    "    elif i < 1300000:\n",
    "        n_ratings.append(1250000)\n",
    "    elif i < 1400000:\n",
    "        n_ratings.append(1350000)\n",
    "    elif i < 1500000:\n",
    "        n_ratings.append(1450000)\n",
    "    elif i < 1600000:\n",
    "        n_ratings.append(1550000)\n",
    "    elif i < 1700000:\n",
    "        n_ratings.append(1650000)\n",
    "    elif i < 1800000:\n",
    "        n_ratings.append(1750000)\n",
    "    elif i < 1900000:\n",
    "        n_ratings.append(1850000)\n",
    "    elif i < 2000000:\n",
    "        n_ratings.append(1950000)\n",
    "    elif i < 2100000:\n",
    "        n_ratings.append(2050000)\n",
    "    elif i < 2200000:\n",
    "        n_ratings.append(2150000)\n",
    "    elif i < 2300000:\n",
    "        n_ratings.append(2250000)\n",
    "    else:\n",
    "        n_ratings.append(2400000)\n",
    "steam[\"n_ratings\"] = pd.Series(n_ratings)"
   ]
  },
  {
   "cell_type": "code",
   "execution_count": null,
   "metadata": {},
   "outputs": [],
   "source": [
    "#jogos_mais_negativos[jogos_mais_negativos[\"genres\"].str.contains(\"Action\")]\n",
    "steam[\"n_ratings\"].value_counts()"
   ]
  },
  {
   "cell_type": "code",
   "execution_count": null,
   "metadata": {},
   "outputs": [],
   "source": [
    "#steam_cat=steam[steam[\"genres\"].str.contains(\"Gore\")]\n",
    "steam.head(5)"
   ]
  },
  {
   "cell_type": "code",
   "execution_count": null,
   "metadata": {},
   "outputs": [],
   "source": [
    "#lista = [0,5,15,40,80,150,1000]\n",
    "#pd.cut(steam.price, bins=lista).value_counts()"
   ]
  },
  {
   "cell_type": "code",
   "execution_count": null,
   "metadata": {},
   "outputs": [],
   "source": [
    "from sklearn.preprocessing import OneHotEncoder\n",
    "\n",
    "encoder = OneHotEncoder()\n"
   ]
  },
  {
   "cell_type": "code",
   "execution_count": null,
   "metadata": {},
   "outputs": [],
   "source": [
    "X_num1 = steam[[\"price\"]]\n",
    "X_num2 = steam[[\"n_cat\"]]\n",
    "#X_cat = steam[[\"genres\"]]"
   ]
  },
  {
   "cell_type": "code",
   "execution_count": null,
   "metadata": {},
   "outputs": [],
   "source": [
    "#y_positive = steam['positive_ratings']\n",
    "#y_negative = steam['negative_ratings']\n",
    "y_ratings = steam[\"positivo\"]"
   ]
  },
  {
   "cell_type": "code",
   "execution_count": null,
   "metadata": {},
   "outputs": [],
   "source": [
    "#X_cat_encoded = encoder.fit_transform(X_cat)"
   ]
  },
  {
   "cell_type": "code",
   "execution_count": null,
   "metadata": {},
   "outputs": [],
   "source": [
    "#encoder.categories_\n",
    "\n",
    "#X_cat_encoded.toarray()[0]"
   ]
  },
  {
   "cell_type": "code",
   "execution_count": null,
   "metadata": {},
   "outputs": [],
   "source": [
    "X_num_array1 = X_num1.values\n",
    "\n",
    "X_num_array2 = X_num2.values\n",
    "\n",
    "#X_cat_encoded_array = X_cat_encoded.toarray()\n",
    "\n",
    "#X = np.concatenate((X_num_array, X_cat_encoded_array), axis=1)\n",
    "X = np.concatenate((X_num_array1, X_num_array2), axis=1)"
   ]
  },
  {
   "cell_type": "code",
   "execution_count": null,
   "metadata": {},
   "outputs": [],
   "source": [
    "from sklearn.ensemble import RandomForestClassifier\n",
    "from sklearn.model_selection import train_test_split\n",
    "from sklearn.metrics import accuracy_score\n",
    "\n",
    "X_train, X_test, y_train, y_test = train_test_split(X, y_ratings)\n",
    "\n",
    "model = RandomForestClassifier()\n",
    "model.fit(X_train, y_train)\n",
    "y_pred = model.predict(X_test)\n",
    "\n",
    "print(accuracy_score(y_test, y_pred))"
   ]
  },
  {
   "cell_type": "code",
   "execution_count": null,
   "metadata": {},
   "outputs": [],
   "source": [
    "novo_dado = [190,3000]\n",
    "\n",
    "novo_x_num1 = np.array([novo_dado[0]]).reshape(-1,1)\n",
    "novo_x_num2 = [novo_dado[1:]]\n",
    "\n",
    "\n",
    "novo_x = np.concatenate((novo_x_num1, novo_x_num2), axis=1)\n",
    "\n",
    "model.predict(novo_x)"
   ]
  },
  {
   "cell_type": "code",
   "execution_count": null,
   "metadata": {},
   "outputs": [],
   "source": []
  }
 ],
 "metadata": {
  "kernelspec": {
   "display_name": "Python 3",
   "language": "python",
   "name": "python3"
  },
  "language_info": {
   "codemirror_mode": {
    "name": "ipython",
    "version": 3
   },
   "file_extension": ".py",
   "mimetype": "text/x-python",
   "name": "python",
   "nbconvert_exporter": "python",
   "pygments_lexer": "ipython3",
   "version": "3.7.1"
  }
 },
 "nbformat": 4,
 "nbformat_minor": 2
}
